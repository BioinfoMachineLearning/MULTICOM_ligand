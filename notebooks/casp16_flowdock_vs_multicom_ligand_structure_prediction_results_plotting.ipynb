{
 "cells": [
  {
   "cell_type": "markdown",
   "metadata": {},
   "source": [
    "## CASP16 FlowDock vs. MULTICOM_ligand Structure Prediction Results Plotting"
   ]
  },
  {
   "cell_type": "markdown",
   "metadata": {},
   "source": [
    "#### Import packages"
   ]
  },
  {
   "cell_type": "code",
   "execution_count": null,
   "metadata": {},
   "outputs": [],
   "source": [
    "import matplotlib.pyplot as plt\n",
    "import pandas as pd\n",
    "import seaborn as sns"
   ]
  },
  {
   "cell_type": "markdown",
   "metadata": {},
   "source": [
    "#### Make plot"
   ]
  },
  {
   "cell_type": "code",
   "execution_count": null,
   "metadata": {},
   "outputs": [],
   "source": [
    "# CASP16 Structure Prediction Results #\n",
    "\n",
    "# Prepare FlowDock and MULTICOM_ligand's results\n",
    "flowdock_top_ranked_results_df = pd.read_csv(\"casp16_flowdock_bust_results.csv\")\n",
    "\n",
    "multicom_ligand_results_df = pd.read_csv(\"casp16_ligand_pose_results.csv\")\n",
    "multicom_ligand_top_ranked_results_df = multicom_ligand_results_df[\n",
    "    (multicom_ligand_results_df[\"group\"] == \"LG207\")\n",
    "    & (multicom_ligand_results_df[\"model\"].str.contains(\"_1\"))\n",
    "]\n",
    "\n",
    "# Find common targets between FlowDock and MULTICOM_ligand's completed predictions\n",
    "common_targets = set(flowdock_top_ranked_results_df[\"mol_id\"]).intersection(\n",
    "    set(multicom_ligand_top_ranked_results_df[\"target\"])\n",
    ")\n",
    "flowdock_top_ranked_results_df = flowdock_top_ranked_results_df[\n",
    "    flowdock_top_ranked_results_df[\"mol_id\"].isin(common_targets)\n",
    "]\n",
    "multicom_ligand_top_ranked_results_df = multicom_ligand_top_ranked_results_df[\n",
    "    multicom_ligand_top_ranked_results_df[\"target\"].isin(common_targets)\n",
    "]\n",
    "\n",
    "# Plot FlowDock vs. MULTICOM_ligand's results as a histogram comparison\n",
    "n = len(flowdock_top_ranked_results_df)\n",
    "\n",
    "sns.set_theme(style=\"whitegrid\")\n",
    "plt.figure(figsize=(8, 6))\n",
    "ax = sns.histplot(\n",
    "    flowdock_top_ranked_results_df[\"rmsd\"],\n",
    "    bins=100,\n",
    "    kde=True,\n",
    "    color=\"orange\",\n",
    "    label=\"FlowDock (w/o relaxation)\",\n",
    ")\n",
    "ax = sns.histplot(\n",
    "    multicom_ligand_top_ranked_results_df[\"rmsd\"],\n",
    "    bins=100,\n",
    "    kde=True,\n",
    "    color=\"skyblue\",\n",
    "    label=\"MULTICOM_ligand\",\n",
    ")\n",
    "plt.xlabel(\"RMSD\")\n",
    "plt.ylabel(\"Frequency\")\n",
    "plt.xlim(0, 10)\n",
    "plt.legend(title=\"Method\")\n",
    "plt.title(\"\")\n",
    "plt.savefig(\n",
    "    f\"casp16_flowdock_vs_multicom_ligand_structure_prediction_results_comparison_n={n}.png\"\n",
    ")\n",
    "plt.show()"
   ]
  },
  {
   "cell_type": "markdown",
   "metadata": {},
   "source": [
    "#### Make plot (for multi-ligands only)"
   ]
  },
  {
   "cell_type": "code",
   "execution_count": null,
   "metadata": {},
   "outputs": [],
   "source": [
    "# Find results for single-ligand targets only\n",
    "common_multi_ligand_targets = common_targets.intersection(\n",
    "    set(\n",
    "        flowdock_top_ranked_results_df[\"mol_id\"]\n",
    "        .value_counts()[flowdock_top_ranked_results_df[\"mol_id\"].value_counts() > 1]\n",
    "        .index\n",
    "    )\n",
    ")\n",
    "flowdock_top_ranked_multi_ligand_results_df = flowdock_top_ranked_results_df[\n",
    "    flowdock_top_ranked_results_df[\"mol_id\"].isin(common_multi_ligand_targets)\n",
    "]\n",
    "multicom_ligand_top_ranked_multi_ligand_results_df = multicom_ligand_top_ranked_results_df[\n",
    "    multicom_ligand_top_ranked_results_df[\"target\"].isin(common_multi_ligand_targets)\n",
    "]\n",
    "\n",
    "# Plot FlowDock vs. MULTICOM_ligand's multi-ligand results as a histogram comparison\n",
    "n = len(flowdock_top_ranked_multi_ligand_results_df)\n",
    "\n",
    "sns.set_theme(style=\"whitegrid\")\n",
    "plt.figure(figsize=(8, 6))\n",
    "ax = sns.histplot(\n",
    "    flowdock_top_ranked_multi_ligand_results_df[\"rmsd\"],\n",
    "    bins=100,\n",
    "    kde=True,\n",
    "    color=\"orange\",\n",
    "    label=\"FlowDock (w/o relaxation)\",\n",
    ")\n",
    "ax = sns.histplot(\n",
    "    multicom_ligand_top_ranked_multi_ligand_results_df[\"rmsd\"],\n",
    "    bins=100,\n",
    "    kde=True,\n",
    "    color=\"skyblue\",\n",
    "    label=\"MULTICOM_ligand\",\n",
    ")\n",
    "plt.xlabel(\"RMSD\")\n",
    "plt.ylabel(\"Frequency\")\n",
    "plt.xlim(0, 10)\n",
    "plt.legend(title=\"Method\")\n",
    "plt.title(\"\")\n",
    "plt.savefig(\n",
    "    f\"casp16_flowdock_vs_multicom_ligand_multi_ligand_structure_prediction_results_comparison_n={n}.png\"\n",
    ")\n",
    "plt.show()"
   ]
  }
 ],
 "metadata": {
  "kernelspec": {
   "display_name": "PyMOL-MULTICOM_ligand",
   "language": "python",
   "name": "python3"
  },
  "language_info": {
   "codemirror_mode": {
    "name": "ipython",
    "version": 3
   },
   "file_extension": ".py",
   "mimetype": "text/x-python",
   "name": "python",
   "nbconvert_exporter": "python",
   "pygments_lexer": "ipython3",
   "version": "3.11.10"
  }
 },
 "nbformat": 4,
 "nbformat_minor": 2
}
