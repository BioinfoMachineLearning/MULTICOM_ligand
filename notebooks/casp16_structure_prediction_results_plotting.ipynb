{
 "cells": [
  {
   "cell_type": "markdown",
   "metadata": {},
   "source": [
    "## CASP16 Structure Prediction Results Plotting"
   ]
  },
  {
   "cell_type": "markdown",
   "metadata": {},
   "source": [
    "#### Import packages"
   ]
  },
  {
   "cell_type": "code",
   "execution_count": null,
   "metadata": {},
   "outputs": [],
   "source": [
    "import matplotlib.pyplot as plt\n",
    "import pandas as pd\n",
    "import seaborn as sns"
   ]
  },
  {
   "cell_type": "markdown",
   "metadata": {},
   "source": [
    "#### Make plot"
   ]
  },
  {
   "cell_type": "code",
   "execution_count": null,
   "metadata": {},
   "outputs": [],
   "source": [
    "# CASP16 Structure Prediction Results #\n",
    "\n",
    "# Load CASP16 ligand pose prediction results\n",
    "results_df = pd.read_csv(\"casp16_ligand_pose_results.csv\")\n",
    "\n",
    "# Prepare MULTICOM_ligand's results\n",
    "multicom_ligand_top_ranked_results_df = results_df[\n",
    "    (results_df[\"group\"] == \"LG207\") & (results_df[\"model\"].str.contains(\"_1\"))\n",
    "]\n",
    "\n",
    "# Plot MULTICOM_ligand's results as a histogram\n",
    "sns.set_theme(style=\"whitegrid\")\n",
    "plt.figure(figsize=(8, 6))\n",
    "ax = sns.histplot(\n",
    "    multicom_ligand_top_ranked_results_df[\"rmsd\"], bins=100, kde=True, color=\"skyblue\"\n",
    ")\n",
    "plt.xlabel(\"RMSD\")\n",
    "plt.ylabel(\"Frequency\")\n",
    "plt.xlim(0, 10)\n",
    "plt.savefig(\"casp16_structure_prediction_results.png\")\n",
    "plt.show()"
   ]
  }
 ],
 "metadata": {
  "kernelspec": {
   "display_name": "MULTICOM_ligand",
   "language": "python",
   "name": "python3"
  },
  "language_info": {
   "codemirror_mode": {
    "name": "ipython",
    "version": 3
   },
   "file_extension": ".py",
   "mimetype": "text/x-python",
   "name": "python",
   "nbconvert_exporter": "python",
   "pygments_lexer": "ipython3",
   "version": "3.10.14"
  }
 },
 "nbformat": 4,
 "nbformat_minor": 2
}
