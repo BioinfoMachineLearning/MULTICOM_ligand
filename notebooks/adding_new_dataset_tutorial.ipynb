{
 "cells": [
  {
   "cell_type": "markdown",
   "metadata": {},
   "source": [
    "# `MULTICOM_ligand` Tutorial, Part 1 - Adding a New Dataset\n",
    "![Datasets](../img/MULTICOM_ligand_Datasets.png)"
   ]
  },
  {
   "cell_type": "markdown",
   "metadata": {},
   "source": [
    "## Overview\n",
    "\n",
    "`MULTICOM_ligand` encompasses several datasets for benchmarking protein-ligand structure prediction methods. However, you may want to add your own dataset to `MULTICOM_ligand` to fulfill a specific use case or to test a specific idea. This tutorial will show you how to do so for a new collection of *single*-ligand protein complexes. For help integrating a new *multi*-ligand protein complex dataset, please create a new GitHub issue or send us an email. We would be happy to help you add this new collection to the benchmark!\n",
    "\n",
    "To add your custom *single*-ligand dataset to `MULTICOM_ligand`, you just have to follow the following 4-step procedure:\n",
    "\n",
    "1. Create a new directory under `data/` with the required suffix `_set` (e.g., `data/newest_set/`) and group your (ground-truth) data files by unique IDs within this new directory (e.g., `data/newest_set/1G9V_RQ4/1G9V_RQ4_{protein.pdb,ligand.sdf}`)\n",
    "2. Update the config files throughout `configs/analysis/`, `configs/data/`, and `configs/model/` to list your new dataset as a CLI argument (e.g., `dataset: newest`)\n",
    "3. Predict `apo` protein structures for your new dataset using ESMFold by integrating parsing for your dataset into the ESMFold-related source code within `multicom_ligand/data/ligand/data/components/esmfold_fasta_preparation.py` and `multicom_ligand/data/components/esmfold_apo_to_holo_alignment.py`\n",
    "4. Using `notebooks/posebusters_astex_inference_results_plotting.ipynb` as a template, add a new Jupyter notebook to `notebooks/` for plotting each method's results on your new dataset (after preparing each method's dataset inputs and running inference with each desired method)"
   ]
  },
  {
   "cell_type": "markdown",
   "metadata": {},
   "source": [
    "## Wrapping up\n",
    "\n",
    "Have any additional questions about adding your custom dataset to `MULTICOM_ligand`? [Create a new issue](https://github.com/BioinfoMachineLearning/MULTICOM_ligand/issues/new/choose) on our [GitHub repository](https://github.com/BioinfoMachineLearning/MULTICOM_ligand). We would be happy to work with you."
   ]
  }
 ],
 "metadata": {
  "kernelspec": {
   "display_name": "PoseBench",
   "language": "python",
   "name": "python3"
  },
  "language_info": {
   "codemirror_mode": {
    "name": "ipython",
    "version": 3
   },
   "file_extension": ".py",
   "mimetype": "text/x-python",
   "name": "python",
   "nbconvert_exporter": "python",
   "pygments_lexer": "ipython3",
   "version": "3.9.17"
  }
 },
 "nbformat": 4,
 "nbformat_minor": 2
}
