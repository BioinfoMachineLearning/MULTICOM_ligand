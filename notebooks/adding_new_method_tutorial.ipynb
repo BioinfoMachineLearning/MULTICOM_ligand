{
 "cells": [
  {
   "cell_type": "markdown",
   "metadata": {},
   "source": [
    "# `MULTICOM_ligand` Tutorial, Part 2 - Adding a New Method\n",
    "![Methods](../img/MULTICOM_ligand_Methods.png)"
   ]
  },
  {
   "cell_type": "markdown",
   "metadata": {},
   "source": [
    "## Overview\n",
    "\n",
    "`MULTICOM_ligand` implements several recent methods for protein-ligand docking and structure prediction. However, you may want to add your own (new) method to `MULTICOM_ligand` to rigorously benchmark the algorithm for both *single* and *multi*-ligand prediction targets. This tutorial will show you how to do that.\n",
    "\n",
    "To add your custom method to `MULTICOM_ligand`, you just have to follow the following 5-step procedure:\n",
    "\n",
    "1. Update the config files within `configs/analysis/` and at `configs/model/ensemble_generation.yaml`, `configs/model/inference_relaxation.yaml`, and `configs/model/vina_inference.yaml` to list your new method as a CLI argument (e.g., `method: newest_model`)\n",
    "2. Using `configs/data/neuralplexer_input_preparation.yaml` as a template, add a new input (and, if necessary, output - e.g., `configs/data/rfaa_output_extraction.yaml`) construction script for your method to `configs/data/` (e.g., `configs/data/newest_model_input_preparation.yaml`)\n",
    "3. Clone (or copy) your new method's source code into the `forks/` directory, and then remove any traces of Git version control files (e.g., `rm -rf forks/new_method_repo/.git/`)\n",
    "4. Referencing `configs/model/neuralplexer_inference.yaml` and `multicom_ligand/models/neuralplexer_inference.py` as config file and source code file templates, respectively, add new inference config and source code files for your new method to `configs/model/` and `multicom_ligand/model/`, correspondingly\n",
    "5. After using your new inference script to test your method on an available dataset (e.g., `casp15`) (and after performing any necessary complex structure alignments via `multicom_ligand/analysis/complex_alignment.py`), score the method's results using the corresponding test dataset's analysis script within `multicom_ligand/analysis/` (e.g., `multicom_ligand/analysis/inference_analysis_casp.py`), and then plot the final results by adding the results' CSV file path(s) to the corresponding dataset's plotting notebook within the `notebooks/` directory (e.g., `notebooks/casp15_inference_results_plotting.ipynb`)"
   ]
  },
  {
   "cell_type": "markdown",
   "metadata": {},
   "source": [
    "## Wrapping up\n",
    "\n",
    "Have any additional questions about adding your new method to `MULTICOM_ligand`? [Create a new issue](https://github.com/BioinfoMachineLearning/MULTICOM_ligand/issues/new/choose) on our [GitHub repository](https://github.com/BioinfoMachineLearning/MULTICOM_ligand). We would be happy to work with you."
   ]
  }
 ],
 "metadata": {
  "language_info": {
   "name": "python"
  }
 },
 "nbformat": 4,
 "nbformat_minor": 2
}
